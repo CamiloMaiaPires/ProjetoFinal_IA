{
 "cells": [
  {
   "cell_type": "code",
   "execution_count": 193,
   "id": "valid-wonder",
   "metadata": {},
   "outputs": [],
   "source": [
    "import pandas as pd\n",
    "from sklearn.neural_network import MLPRegressor \n",
    "import sklearn.feature_selection as fs\n",
    "from sklearn.model_selection import cross_val_score\n",
    "import numpy as np"
   ]
  },
  {
   "cell_type": "code",
   "execution_count": 203,
   "id": "annoying-mystery",
   "metadata": {},
   "outputs": [],
   "source": [
    "# Selecionando X e y do dataframe\n",
    "dataframe = pd.read_csv('../normalizados/dados/3500105.csv')\n",
    "#print(dataframe.columns)\n",
    "\n",
    "X = dataframe[['Total 2ª Dose', 'Total Unica', 'Total Doses Aplicadas',\n",
    "       'População Vacinada dose1/População Total', 'População Vacinada/População Total', \n",
    "        'media_movel_casos', 'media_movel_obitos', 'ocupacao_leitos','media_isolamento', 'Mean.R']].values.tolist()\n",
    "\n",
    "y = dataframe['diagnostico_covid19']\n"
   ]
  },
  {
   "cell_type": "markdown",
   "id": "supported-forum",
   "metadata": {},
   "source": [
    "## Seleção de atributos"
   ]
  },
  {
   "cell_type": "code",
   "execution_count": 228,
   "id": "material-seattle",
   "metadata": {
    "scrolled": false
   },
   "outputs": [
    {
     "name": "stdout",
     "output_type": "stream",
     "text": [
      "Score com VarianceThreshold -> -1.106517575647716\n",
      "Score com k = 9 -> -1.2471416494259286\n",
      "Score com k = 8 -> -1.097475937493403\n",
      "Score com k = 7 -> -1.1053109463846744\n",
      "Score com k = 6 -> -0.8776541191799854\n",
      "Score com k = 5 -> -0.6292659844903948\n",
      "Score com k = 4 -> -0.685855819397319\n",
      "Score com k = 3 -> -0.2166318019470534\n",
      "Score com k = 2 -> -0.16123200892803785\n",
      "Score com k = 1 -> 0.03476722209844514\n"
     ]
    }
   ],
   "source": [
    "#Remoção de características com variancia 0\n",
    "sel = fs.VarianceThreshold()\n",
    "X = sel.fit_transform(X)\n",
    "mlp = MLPRegressor(random_state=None, max_iter=5000, tol=0.1, hidden_layer_sizes=(1000,1000))\n",
    "scores_kfold = cross_val_score(estimator=mlp, X=X, y=y, cv=5)\n",
    "score = scores_kfold.mean()\n",
    "print(\"Score com VarianceThreshold -> {}\" .format(score))\n",
    "\n",
    "#Seleciona os k melhores atributos e faz a validação cruzada\n",
    "for i in range(9, 0, -1):\n",
    "    sel = fs.SelectKBest(fs.mutual_info_regression, k=i)\n",
    "    X_sel = sel.fit_transform(X, y)\n",
    "    mlp = MLPRegressor(random_state=None, max_iter=5000, tol=0.1, hidden_layer_sizes=(1000,1000))\n",
    "    scores_kfold = cross_val_score(estimator=mlp, X=X_sel, y=y, cv=5)\n",
    "    score = scores_kfold.mean()\n",
    "    print(\"Score com k = {} -> {}\" .format(i, score))\n"
   ]
  },
  {
   "cell_type": "code",
   "execution_count": 174,
   "id": "grave-cincinnati",
   "metadata": {},
   "outputs": [
    {
     "data": {
      "text/plain": [
       "array([[0.44584795],\n",
       "       [0.46656642],\n",
       "       [0.48421053],\n",
       "       [0.50085213],\n",
       "       [0.51906433],\n",
       "       [0.54225564],\n",
       "       [0.55548872],\n",
       "       [0.60364244],\n",
       "       [0.6778279 ],\n",
       "       [0.71692565],\n",
       "       [0.75131161],\n",
       "       [0.78603175],\n",
       "       [0.8431746 ],\n",
       "       [0.88531328],\n",
       "       [0.89981621],\n",
       "       [0.90111947],\n",
       "       [0.92912281],\n",
       "       [0.98429407],\n",
       "       [0.99124478],\n",
       "       [0.99451963],\n",
       "       [1.        ],\n",
       "       [0.99903091],\n",
       "       [0.99856307],\n",
       "       [0.97012531],\n",
       "       [0.91619048],\n",
       "       [0.89794486],\n",
       "       [0.87007519],\n",
       "       [0.86228906],\n",
       "       [0.83365079],\n",
       "       [0.786934  ],\n",
       "       [0.76695071],\n",
       "       [0.73837928],\n",
       "       [0.72284043],\n",
       "       [0.69299916],\n",
       "       [0.63378446],\n",
       "       [0.60457811],\n",
       "       [0.55812865],\n",
       "       [0.52407686],\n",
       "       [0.50121972],\n",
       "       [0.50422723],\n",
       "       [0.47756057],\n",
       "       [0.46743525],\n",
       "       [0.45951546],\n",
       "       [0.46827068],\n",
       "       [0.4659315 ],\n",
       "       [0.46225564],\n",
       "       [0.42643275],\n",
       "       [0.42142022],\n",
       "       [0.42920635],\n",
       "       [0.41857978],\n",
       "       [0.40822055],\n",
       "       [0.40080201],\n",
       "       [0.39725982],\n",
       "       [0.39495405],\n",
       "       [0.3847619 ],\n",
       "       [0.35799499],\n",
       "       [0.34863826],\n",
       "       [0.33614035],\n",
       "       [0.34382623],\n",
       "       [0.33587302],\n",
       "       [0.32588137],\n",
       "       [0.32484545],\n",
       "       [0.3310944 ],\n",
       "       [0.33844612],\n",
       "       [0.3417878 ],\n",
       "       [0.33152882],\n",
       "       [0.33376775],\n",
       "       [0.32441103],\n",
       "       [0.32685046],\n",
       "       [0.34663325],\n",
       "       [0.34860485],\n",
       "       [0.35278195],\n",
       "       [0.35829574],\n",
       "       [0.36544695],\n",
       "       [0.37697577],\n",
       "       [0.37700919],\n",
       "       [0.35615706],\n",
       "       [0.35639098],\n",
       "       [0.36491228],\n",
       "       [0.36193818],\n",
       "       [0.35849624],\n",
       "       [0.36113617],\n",
       "       [0.36634921],\n",
       "       [0.38065163],\n",
       "       [0.38225564],\n",
       "       [0.37477026],\n",
       "       [0.38212197],\n",
       "       [0.38512949],\n",
       "       [0.39451963],\n",
       "       [0.39074353],\n",
       "       [0.37316625],\n",
       "       [0.36908939],\n",
       "       [0.36778613],\n",
       "       [0.37697577],\n",
       "       [0.37817878],\n",
       "       [0.3728655 ],\n",
       "       [0.38670008],\n",
       "       [0.39515455],\n",
       "       [0.39675856],\n",
       "       [0.39996658],\n",
       "       [0.41179616],\n",
       "       [0.41393484],\n",
       "       [0.41223058],\n",
       "       [0.39913116],\n",
       "       [0.39846282],\n",
       "       [0.39779449],\n",
       "       [0.38639933],\n",
       "       [0.35976608],\n",
       "       [0.3489056 ],\n",
       "       [0.34840434],\n",
       "       [0.33593985],\n",
       "       [0.31996658],\n",
       "       [0.30472849],\n",
       "       [0.29694236],\n",
       "       [0.28892231],\n",
       "       [0.27923141],\n",
       "       [0.25878028],\n",
       "       [0.25099415],\n",
       "       [0.2421721 ],\n",
       "       [0.2402005 ],\n",
       "       [0.22807018],\n",
       "       [0.21186299],\n",
       "       [0.2023726 ],\n",
       "       [0.19482038],\n",
       "       [0.18589808],\n",
       "       [0.17751044],\n",
       "       [0.15729323],\n",
       "       [0.14730159],\n",
       "       [0.13467001],\n",
       "       [0.1298914 ],\n",
       "       [0.13393484],\n",
       "       [0.12664996],\n",
       "       [0.11949875],\n",
       "       [0.12053467],\n",
       "       [0.11515455],\n",
       "       [0.11415205],\n",
       "       [0.10543024],\n",
       "       [0.09052632],\n",
       "       [0.07856307],\n",
       "       [0.07502089],\n",
       "       [0.06606516],\n",
       "       [0.05767753],\n",
       "       [0.05283208],\n",
       "       [0.04451128],\n",
       "       [0.03695906],\n",
       "       [0.02964077],\n",
       "       [0.01794486],\n",
       "       [0.0108939 ],\n",
       "       [0.        ]])"
      ]
     },
     "execution_count": 174,
     "metadata": {},
     "output_type": "execute_result"
    }
   ],
   "source": [
    "#escolhendo o atributo com melhor performance\n",
    "sel = fs.SelectKBest(fs.mutual_info_regression, k=1)\n",
    "X_sel = sel.fit_transform(X, y)\n",
    "X_sel"
   ]
  },
  {
   "cell_type": "code",
   "execution_count": 128,
   "id": "impossible-telephone",
   "metadata": {},
   "outputs": [],
   "source": [
    "parametros = {'solver': ['lbfgs', 'sgd', 'adam'], 'activation': ['identity', 'logistic', 'tanh', 'relu'],\n",
    "    'hidden_layer_sizes': [(50,50,50), (50,100,50), (100,), (1000,1000)],\n",
    "    'alpha': [0.0001, 0.05],\n",
    "    'learning_rate': ['constant','adaptive', 'invscaling'],\n",
    "    'max_iter':[200,500,750,1000], 'tol':[0.01,0.1,0.001,0.0001]\n",
    "}"
   ]
  },
  {
   "cell_type": "code",
   "execution_count": 130,
   "id": "dense-underground",
   "metadata": {},
   "outputs": [
    {
     "data": {
      "text/plain": [
       "GridSearchCV(cv=3, estimator=MLPRegressor(), n_jobs=-1,\n",
       "             param_grid={'activation': ['identity', 'logistic', 'tanh', 'relu'],\n",
       "                         'alpha': [0.0001, 0.05],\n",
       "                         'hidden_layer_sizes': [(50, 50, 50), (50, 100, 50),\n",
       "                                                (100,), (1000, 1000)],\n",
       "                         'learning_rate': ['constant', 'adaptive',\n",
       "                                           'invscaling'],\n",
       "                         'max_iter': [200, 500, 750, 1000],\n",
       "                         'solver': ['lbfgs', 'sgd', 'adam'],\n",
       "                         'tol': [0.01, 0.1, 0.001, 0.0001]})"
      ]
     },
     "execution_count": 130,
     "metadata": {},
     "output_type": "execute_result"
    }
   ],
   "source": [
    "from sklearn.model_selection import GridSearchCV\n",
    "mlp = MLPRegressor()\n",
    "clf = GridSearchCV(mlp, parametros, n_jobs=-1, cv=3)\n",
    "clf.fit(X_sel, y)"
   ]
  },
  {
   "cell_type": "code",
   "execution_count": 131,
   "id": "improving-procedure",
   "metadata": {},
   "outputs": [
    {
     "data": {
      "text/plain": [
       "{'activation': 'identity',\n",
       " 'alpha': 0.0001,\n",
       " 'hidden_layer_sizes': (50, 50, 50),\n",
       " 'learning_rate': 'constant',\n",
       " 'max_iter': 1000,\n",
       " 'solver': 'adam',\n",
       " 'tol': 0.1}"
      ]
     },
     "execution_count": 131,
     "metadata": {},
     "output_type": "execute_result"
    }
   ],
   "source": [
    "clf.best_params_"
   ]
  },
  {
   "cell_type": "code",
   "execution_count": 266,
   "id": "optical-survey",
   "metadata": {},
   "outputs": [
    {
     "data": {
      "text/plain": [
       "0.11786877159025995"
      ]
     },
     "execution_count": 266,
     "metadata": {},
     "output_type": "execute_result"
    }
   ],
   "source": [
    "mlp = MLPRegressor(max_iter=5000, tol=0.1, hidden_layer_sizes=(50, 50, 50), activation='identity', alpha=0.0001)\n",
    "scores_kfold = cross_val_score(estimator=mlp, X=X_sel, y=y, cv=5)\n",
    "score = scores_kfold.mean()\n",
    "score"
   ]
  },
  {
   "cell_type": "code",
   "execution_count": null,
   "id": "miniature-experiment",
   "metadata": {},
   "outputs": [],
   "source": []
  }
 ],
 "metadata": {
  "kernelspec": {
   "display_name": "Python 3",
   "language": "python",
   "name": "python3"
  },
  "language_info": {
   "codemirror_mode": {
    "name": "ipython",
    "version": 3
   },
   "file_extension": ".py",
   "mimetype": "text/x-python",
   "name": "python",
   "nbconvert_exporter": "python",
   "pygments_lexer": "ipython3",
   "version": "3.9.2"
  }
 },
 "nbformat": 4,
 "nbformat_minor": 5
}
