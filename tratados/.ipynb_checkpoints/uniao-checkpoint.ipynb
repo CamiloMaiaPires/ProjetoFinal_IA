{
 "cells": [
  {
   "cell_type": "code",
   "execution_count": 2,
   "metadata": {},
   "outputs": [],
   "source": [
    "import pandas as pd\n",
    "import datetime"
   ]
  },
  {
   "cell_type": "code",
   "execution_count": null,
   "metadata": {},
   "outputs": [],
   "source": [
    "ibge = pd.read_csv('./dados/ibge_drs.csv')\n",
    "\n",
    "#função para iterar datas\n",
    "def daterange(start_date, end_date):\n",
    "    for i in range(int((end_date - start_date).days)):\n",
    "        yield start_date + datetime.timedelta(i)\n",
    "\n",
    "inicio = datetime.datetime(2020,1,1)\n",
    "fim = datetime.datetime.now()\n",
    "\n",
    "for cod in ibge.iloc():\n",
    "    cidade = str(cod['Código IBGE'])\n",
    "    co = pd.read_csv('casos_obitos/' + cidade + '.csv')\n",
    "    vacinacao = pd.read_csv('vacinacao/' + cidade + '.csv')\n",
    "    isolamento = pd.read_csv('isolamento/datas_formatadas/' + cidade + '.csv')\n",
    "    ocupacao = pd.read_csv('ocupacao/' + cidade + '.csv')\n",
    "    \n",
    "    r = pd.DataFrame()\n",
    "    try:\n",
    "        r = pd.read_csv('r_efetivo/cidades/' + cidade + '.csv')\n",
    "    except FileNotFoundError:\n",
    "        pass\n",
    "    \n",
    "    \n",
    "    dados = { 'Município': [], 'Código IBGE': [], 'Populacao': [], 'Total 1ª Dose': [],\n",
    "       'Total 2ª Dose': [], 'Total Unica': [], 'Total Doses Aplicadas': [],\n",
    "       'População Vacinada dose1/População Total': [],\n",
    "       'População Vacinada/População Total': [], 'data': [], 'diagnostico_covid19': [], 'obito': [], 'media_movel_casos': [],\n",
    "       'media_movel_obitos': [], 'ocupacao_leitos': []}\n",
    "    novo = pd.DataFrame(data=dados)\n",
    "    for data in daterange(inicio, fim):\n",
    "        \n",
    "        iso = isolamento[isolamento['data'] == data.strftime('%Y-%m-%d')].drop(columns=['Unnamed: 0', 'DRS', 'cidade', 'cod_ibge'])\n",
    "        vac = vacinacao[vacinacao['data'] == data.strftime('%Y-%m-%d')].drop(columns=['Unnamed: 0'])\n",
    "        cao = co[co['data_inicio_sintomas'] == data.strftime('%Y-%m-%dT00:00:00Z')].drop(columns=['Unnamed: 0','nome_munic', 'codigo_ibge', 'data_inicio_sintomas'])\n",
    "        cao['data'] = data.strftime('%Y-%m-%d')\n",
    "        ocu = ocupacao[ocupacao['data'] == data.strftime('%Y-%m-%d')].drop(columns=['Unnamed: 0', 'cod_ibge', 'data'])\n",
    "        ocu['data'] = data.strftime('%Y-%m-%d')\n",
    "        \n",
    "        soma = pd.merge(vac, cao, on=\"data\")\n",
    "        soma = pd.merge(soma, ocu, on=\"data\")\n",
    "        soma = pd.merge(soma, iso, on=\"data\")\n",
    "        \n",
    "        if(not r.empty):\n",
    "            ref = r[['data', 'Mean.R']]\n",
    "            soma = pd.merge(soma, ref, on=\"data\")\n",
    "        else :\n",
    "            soma['Mean.R'] = 0\n",
    "        \n",
    "        novo = novo.append(soma)\n",
    "    novo = novo.reset_index().drop(columns='index')\n",
    "    novo.to_csv('../Finais/' + cidade + '.csv')\n",
    "\n",
    "#print(novo.dropna())\n",
    "novo"
   ]
  },
  {
   "cell_type": "code",
   "execution_count": null,
   "metadata": {},
   "outputs": [],
   "source": []
  }
 ],
 "metadata": {
  "kernelspec": {
   "display_name": "Python 3",
   "language": "python",
   "name": "python3"
  },
  "language_info": {
   "codemirror_mode": {
    "name": "ipython",
    "version": 3
   },
   "file_extension": ".py",
   "mimetype": "text/x-python",
   "name": "python",
   "nbconvert_exporter": "python",
   "pygments_lexer": "ipython3",
   "version": "3.9.0"
  }
 },
 "nbformat": 4,
 "nbformat_minor": 5
}
