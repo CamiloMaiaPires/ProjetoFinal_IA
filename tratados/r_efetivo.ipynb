{
 "cells": [
  {
   "cell_type": "code",
   "execution_count": 41,
   "metadata": {},
   "outputs": [],
   "source": [
    "import base64\n",
    "import requests\n",
    "from unidecode import unidecode\n",
    "import os\n",
    "import re\n",
    "from bs4 import BeautifulSoup\n",
    "import pandas as pd\n",
    "import datetime"
   ]
  },
  {
   "cell_type": "markdown",
   "metadata": {},
   "source": [
    "## Dados sobre o R efetivo"
   ]
  },
  {
   "cell_type": "code",
   "execution_count": 35,
   "metadata": {},
   "outputs": [],
   "source": [
    "lista = [\n",
    "            \"Americana\",\n",
    "            \"Araraquara\",\n",
    "            \"Barueri\",\n",
    "            \"Botucatu\",\n",
    "            \"Campinas\",\n",
    "            \"Diadema\",\n",
    "            \"Guarulhos\",\n",
    "            \"Jau\",\n",
    "            \"Jundiai\",\n",
    "            \"Maua\",\n",
    "            \"Osasco\",\n",
    "            \"Porto_Feliz\",\n",
    "            \"Ribeirao_Preto\",\n",
    "            \"Santa_Barbara_dOeste\",\n",
    "            \"Santo_Andre\",\n",
    "            \"Santos\",\n",
    "            \"Sao_Bernardo_do_Campo\",\n",
    "            \"Sao_Caetano_do_Sul\",\n",
    "            \"Sao_Jose_dos_Campos\",\n",
    "            \"Sao_Paulo\",\n",
    "            \"Serrana\",\n",
    "            \"Sorocaba\",\n",
    "            \"Taboao_da_Serra\",\n",
    "            \"Votuporanga\"\n",
    "        ]"
   ]
  },
  {
   "cell_type": "code",
   "execution_count": 36,
   "metadata": {},
   "outputs": [],
   "source": [
    "string = \"https://raw.githubusercontent.com/covid19br/covid19br.github.io/master/dados/municipios/SP/\"\n",
    "data = \"/tabelas_nowcasting_para_grafico/r_efetivo_covid_\""
   ]
  },
  {
   "cell_type": "code",
   "execution_count": 43,
   "metadata": {},
   "outputs": [],
   "source": [
    "def daterange(start_date, end_date):\n",
    "    for i in range(int((end_date - start_date).days)):\n",
    "        yield start_date + datetime.timedelta(i)"
   ]
  },
  {
   "cell_type": "code",
   "execution_count": 44,
   "metadata": {
    "scrolled": true
   },
   "outputs": [],
   "source": [
    "data_inicio = datetime.datetime(2021, 3, 30)\n",
    "for cidade in lista:\n",
    "    for data1 in daterange(data_inicio, datetime.datetime.now()):\n",
    "        url = string + cidade + data + data1.strftime('%Y_%m_%d') + \".csv\"\n",
    "        r = requests.get(url, headers={'User-Agent': 'test-app/0.0.1'})\n",
    "        #print(url)\n",
    "\n",
    "        try:\n",
    "            os.makedirs(\"./r_efetivo/\" +  cidade);\n",
    "        except FileExistsError:\n",
    "            pass\n",
    "\n",
    "        if(r.status_code != 404):\n",
    "            txt = open(\"./r_efetivo/\" +  cidade + \"/\"+ data1.strftime('%Y_%m_%d') + \".csv\", \"w\")\n",
    "            txt.write(unidecode(r.text))\n",
    "            txt.close()"
   ]
  },
  {
   "cell_type": "code",
   "execution_count": null,
   "metadata": {},
   "outputs": [],
   "source": []
  }
 ],
 "metadata": {
  "kernelspec": {
   "display_name": "Python 3",
   "language": "python",
   "name": "python3"
  },
  "language_info": {
   "codemirror_mode": {
    "name": "ipython",
    "version": 3
   },
   "file_extension": ".py",
   "mimetype": "text/x-python",
   "name": "python",
   "nbconvert_exporter": "python",
   "pygments_lexer": "ipython3",
   "version": "3.9.0"
  }
 },
 "nbformat": 4,
 "nbformat_minor": 4
}
